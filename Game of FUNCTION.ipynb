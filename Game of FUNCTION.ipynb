{
 "cells": [
  {
   "cell_type": "markdown",
   "id": "7d977595",
   "metadata": {},
   "source": [
    " # Write a Python function to sum all the numbers in a list.\n",
    "\n",
    "\n",
    "\n",
    "Sample List : [8, 2, 3, 0, 7]\n",
    "\n",
    "Expected Output : 20\n",
    "\n",
    "\n",
    "\n",
    "Explanation:\n",
    "\n",
    "\n",
    "\n",
    "Summation should like 8+2+3+0+7 = 20"
   ]
  },
  {
   "cell_type": "code",
   "execution_count": 103,
   "id": "0a89ba01",
   "metadata": {},
   "outputs": [
    {
     "name": "stdout",
     "output_type": "stream",
     "text": [
      "Sum of number [8, 2, 3, 0, 7] = 20\n"
     ]
    }
   ],
   "source": [
    "def sum_of_numbers(sample_list):\n",
    "    summ = sum(sample_list)\n",
    "    return summ\n",
    "sample_list = [8, 2, 3, 0, 7]      \n",
    "summ = sum_of_numbers(sample_list)\n",
    "print(f\"Sum of number {sample_list} = {summ}\")"
   ]
  },
  {
   "cell_type": "code",
   "execution_count": null,
   "id": "19691f18",
   "metadata": {},
   "outputs": [],
   "source": []
  }
 ],
 "metadata": {
  "kernelspec": {
   "display_name": "Python 3 (ipykernel)",
   "language": "python",
   "name": "python3"
  },
  "language_info": {
   "codemirror_mode": {
    "name": "ipython",
    "version": 3
   },
   "file_extension": ".py",
   "mimetype": "text/x-python",
   "name": "python",
   "nbconvert_exporter": "python",
   "pygments_lexer": "ipython3",
   "version": "3.10.1"
  }
 },
 "nbformat": 4,
 "nbformat_minor": 5
}
