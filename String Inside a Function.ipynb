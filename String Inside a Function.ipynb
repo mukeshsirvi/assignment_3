{
 "cells": [
  {
   "cell_type": "markdown",
   "id": "64d91173",
   "metadata": {},
   "source": [
    "# Write a Python program to reverse a string.\n",
    "\n",
    "\n",
    "\n",
    "﻿Sample String : \"1234abcd\"\n",
    "\n",
    "Expected Output : \"dcba4321\"\n",
    "\n"
   ]
  },
  {
   "cell_type": "code",
   "execution_count": 1,
   "id": "18ef4d06",
   "metadata": {},
   "outputs": [],
   "source": [
    "def rev_string(string):\n",
    "    rev_str=string[::-1]\n",
    "    print(rev_str)"
   ]
  },
  {
   "cell_type": "code",
   "execution_count": 2,
   "id": "ae587a0c",
   "metadata": {},
   "outputs": [
    {
     "name": "stdout",
     "output_type": "stream",
     "text": [
      "dcba4321\n"
     ]
    }
   ],
   "source": [
    "rev_string(\"1234abcd\")"
   ]
  },
  {
   "cell_type": "code",
   "execution_count": null,
   "id": "aad26372",
   "metadata": {},
   "outputs": [],
   "source": []
  }
 ],
 "metadata": {
  "kernelspec": {
   "display_name": "Python 3 (ipykernel)",
   "language": "python",
   "name": "python3"
  },
  "language_info": {
   "codemirror_mode": {
    "name": "ipython",
    "version": 3
   },
   "file_extension": ".py",
   "mimetype": "text/x-python",
   "name": "python",
   "nbconvert_exporter": "python",
   "pygments_lexer": "ipython3",
   "version": "3.10.1"
  }
 },
 "nbformat": 4,
 "nbformat_minor": 5
}
